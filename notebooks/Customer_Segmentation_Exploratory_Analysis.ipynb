{
 "cells": [
  {
   "cell_type": "markdown",
   "id": "e6caf0a9-a705-4bc2-ba31-9199a6eee1fb",
   "metadata": {},
   "source": [
    "# Customer Segmentation Exploratory Analysis"
   ]
  },
  {
   "cell_type": "markdown",
   "id": "89acd330-d6c8-4435-b6f7-9d804392b3a4",
   "metadata": {},
   "source": [
    "## Initial Data Exploration"
   ]
  },
  {
   "cell_type": "code",
   "execution_count": 25,
   "id": "67a83914-94d8-4842-9abd-9ac45f6898a3",
   "metadata": {},
   "outputs": [
    {
     "data": {
      "text/html": [
       "<div>\n",
       "<style scoped>\n",
       "    .dataframe tbody tr th:only-of-type {\n",
       "        vertical-align: middle;\n",
       "    }\n",
       "\n",
       "    .dataframe tbody tr th {\n",
       "        vertical-align: top;\n",
       "    }\n",
       "\n",
       "    .dataframe thead th {\n",
       "        text-align: right;\n",
       "    }\n",
       "</style>\n",
       "<table border=\"1\" class=\"dataframe\">\n",
       "  <thead>\n",
       "    <tr style=\"text-align: right;\">\n",
       "      <th></th>\n",
       "      <th>CustomerID</th>\n",
       "      <th>Age</th>\n",
       "      <th>Income</th>\n",
       "      <th>SpendingScore</th>\n",
       "    </tr>\n",
       "  </thead>\n",
       "  <tbody>\n",
       "    <tr>\n",
       "      <th>0</th>\n",
       "      <td>1</td>\n",
       "      <td>51</td>\n",
       "      <td>57003</td>\n",
       "      <td>33</td>\n",
       "    </tr>\n",
       "    <tr>\n",
       "      <th>1</th>\n",
       "      <td>2</td>\n",
       "      <td>41</td>\n",
       "      <td>63273</td>\n",
       "      <td>53</td>\n",
       "    </tr>\n",
       "    <tr>\n",
       "      <th>2</th>\n",
       "      <td>3</td>\n",
       "      <td>62</td>\n",
       "      <td>57522</td>\n",
       "      <td>71</td>\n",
       "    </tr>\n",
       "    <tr>\n",
       "      <th>3</th>\n",
       "      <td>4</td>\n",
       "      <td>52</td>\n",
       "      <td>57981</td>\n",
       "      <td>96</td>\n",
       "    </tr>\n",
       "    <tr>\n",
       "      <th>4</th>\n",
       "      <td>5</td>\n",
       "      <td>32</td>\n",
       "      <td>34912</td>\n",
       "      <td>89</td>\n",
       "    </tr>\n",
       "  </tbody>\n",
       "</table>\n",
       "</div>"
      ],
      "text/plain": [
       "   CustomerID  Age  Income  SpendingScore\n",
       "0           1   51   57003             33\n",
       "1           2   41   63273             53\n",
       "2           3   62   57522             71\n",
       "3           4   52   57981             96\n",
       "4           5   32   34912             89"
      ]
     },
     "execution_count": 25,
     "metadata": {},
     "output_type": "execute_result"
    }
   ],
   "source": [
    "import pandas as pd\n",
    "\n",
    "# Load the dataset\n",
    "df = pd.read_csv('../data/raw_data/customer_data.csv')\n",
    "\n",
    "# Show the first few rows of the data\n",
    "df.head()\n"
   ]
  },
  {
   "cell_type": "markdown",
   "id": "9bf5f944-1996-4d6a-8ae9-2b7672224b43",
   "metadata": {},
   "source": [
    "Here we can see the first few rows of the dataset, which includes features such as Age, Income, and Spending Score. We will look at some summary statistics next"
   ]
  },
  {
   "cell_type": "code",
   "execution_count": 26,
   "id": "1c16c7c8-d918-4d18-8397-1af53c9f2642",
   "metadata": {},
   "outputs": [
    {
     "data": {
      "text/html": [
       "<div>\n",
       "<style scoped>\n",
       "    .dataframe tbody tr th:only-of-type {\n",
       "        vertical-align: middle;\n",
       "    }\n",
       "\n",
       "    .dataframe tbody tr th {\n",
       "        vertical-align: top;\n",
       "    }\n",
       "\n",
       "    .dataframe thead th {\n",
       "        text-align: right;\n",
       "    }\n",
       "</style>\n",
       "<table border=\"1\" class=\"dataframe\">\n",
       "  <thead>\n",
       "    <tr style=\"text-align: right;\">\n",
       "      <th></th>\n",
       "      <th>CustomerID</th>\n",
       "      <th>Age</th>\n",
       "      <th>Income</th>\n",
       "      <th>SpendingScore</th>\n",
       "    </tr>\n",
       "  </thead>\n",
       "  <tbody>\n",
       "    <tr>\n",
       "      <th>count</th>\n",
       "      <td>1000.000000</td>\n",
       "      <td>1000.000000</td>\n",
       "      <td>1000.000000</td>\n",
       "      <td>1000.000000</td>\n",
       "    </tr>\n",
       "    <tr>\n",
       "      <th>mean</th>\n",
       "      <td>500.500000</td>\n",
       "      <td>40.774000</td>\n",
       "      <td>58123.500000</td>\n",
       "      <td>50.471000</td>\n",
       "    </tr>\n",
       "    <tr>\n",
       "      <th>std</th>\n",
       "      <td>288.819436</td>\n",
       "      <td>13.322929</td>\n",
       "      <td>22899.366364</td>\n",
       "      <td>29.124103</td>\n",
       "    </tr>\n",
       "    <tr>\n",
       "      <th>min</th>\n",
       "      <td>1.000000</td>\n",
       "      <td>18.000000</td>\n",
       "      <td>20378.000000</td>\n",
       "      <td>1.000000</td>\n",
       "    </tr>\n",
       "    <tr>\n",
       "      <th>25%</th>\n",
       "      <td>250.750000</td>\n",
       "      <td>29.750000</td>\n",
       "      <td>38018.000000</td>\n",
       "      <td>25.000000</td>\n",
       "    </tr>\n",
       "    <tr>\n",
       "      <th>50%</th>\n",
       "      <td>500.500000</td>\n",
       "      <td>41.000000</td>\n",
       "      <td>57966.500000</td>\n",
       "      <td>50.000000</td>\n",
       "    </tr>\n",
       "    <tr>\n",
       "      <th>75%</th>\n",
       "      <td>750.250000</td>\n",
       "      <td>52.000000</td>\n",
       "      <td>77503.250000</td>\n",
       "      <td>77.000000</td>\n",
       "    </tr>\n",
       "    <tr>\n",
       "      <th>max</th>\n",
       "      <td>1000.000000</td>\n",
       "      <td>64.000000</td>\n",
       "      <td>99991.000000</td>\n",
       "      <td>99.000000</td>\n",
       "    </tr>\n",
       "  </tbody>\n",
       "</table>\n",
       "</div>"
      ],
      "text/plain": [
       "        CustomerID          Age        Income  SpendingScore\n",
       "count  1000.000000  1000.000000   1000.000000    1000.000000\n",
       "mean    500.500000    40.774000  58123.500000      50.471000\n",
       "std     288.819436    13.322929  22899.366364      29.124103\n",
       "min       1.000000    18.000000  20378.000000       1.000000\n",
       "25%     250.750000    29.750000  38018.000000      25.000000\n",
       "50%     500.500000    41.000000  57966.500000      50.000000\n",
       "75%     750.250000    52.000000  77503.250000      77.000000\n",
       "max    1000.000000    64.000000  99991.000000      99.000000"
      ]
     },
     "execution_count": 26,
     "metadata": {},
     "output_type": "execute_result"
    }
   ],
   "source": [
    "# Summary statistics\n",
    "df.describe()"
   ]
  },
  {
   "cell_type": "markdown",
   "id": "42936e79-32b1-4287-a660-b77cfe1b6275",
   "metadata": {},
   "source": [
    "## Feature Selection Rationale"
   ]
  },
  {
   "cell_type": "markdown",
   "id": "c4292ad7-218c-4fc1-b8ad-d6e326dbee9e",
   "metadata": {},
   "source": [
    "We are considering the following features for our clustering model:\n",
    "\n",
    "- Age: Could indicate different purchasing behaviors at different life stages.\n",
    "- Income: Higher income could mean more spending or different types of spending.\n",
    "- Spending Score: A measure of the customer's spending behavior."
   ]
  },
  {
   "cell_type": "markdown",
   "id": "a8d846a0-9932-4230-be4f-d5aa4812fd40",
   "metadata": {},
   "source": [
    "## Trial Runs of Different Clustering Methods"
   ]
  },
  {
   "cell_type": "code",
   "execution_count": 27,
   "id": "568eb110-96e1-4e1f-ab9b-ab8389a0f098",
   "metadata": {},
   "outputs": [
    {
     "name": "stderr",
     "output_type": "stream",
     "text": [
      "/opt/homebrew/Caskroom/miniforge/base/lib/python3.10/site-packages/sklearn/cluster/_kmeans.py:1416: FutureWarning: The default value of `n_init` will change from 10 to 'auto' in 1.4. Set the value of `n_init` explicitly to suppress the warning\n",
      "  super()._check_params_vs_input(X, default_n_init=10)\n"
     ]
    }
   ],
   "source": [
    "from sklearn.cluster import KMeans, AgglomerativeClustering\n",
    "import matplotlib.pyplot as plt\n",
    "\n",
    "# Select features for clustering\n",
    "X = df[['Age', 'Income', 'SpendingScore']]\n",
    "\n",
    "# KMeans\n",
    "kmeans = KMeans(n_clusters=5)\n",
    "kmeans_labels = kmeans.fit_predict(X)\n",
    "\n",
    "# Agglomerative Clustering\n",
    "agg_clustering = AgglomerativeClustering(n_clusters=5)\n",
    "agg_labels = agg_clustering.fit_predict(X)\n"
   ]
  },
  {
   "cell_type": "markdown",
   "id": "edf8fa76-8627-4da2-9faf-56e1fd92a597",
   "metadata": {},
   "source": [
    "## Tuning Hyperparameters"
   ]
  },
  {
   "cell_type": "code",
   "execution_count": 28,
   "id": "36e4492d-fad2-4c5a-b572-e31cd08e72fb",
   "metadata": {},
   "outputs": [
    {
     "data": {
      "image/png": "[encoded data removed]",
      "text/plain": [
       "<Figure size 640x480 with 1 Axes>"
      ]
     },
     "metadata": {},
     "output_type": "display_data"
    }
   ],
   "source": [
    "# Using Elbow Method to find an initial guess for the number of cluseters\n",
    "wcss = []\n",
    "for i in range(1, 50):  # 1 to 10 clusters\n",
    "    kmeans = KMeans(n_clusters=i, init='k-means++', n_init=10)\n",
    "    kmeans.fit(X)\n",
    "    wcss.append(kmeans.inertia_)\n",
    "\n",
    "plt.plot(range(1, 50), wcss)\n",
    "plt.title('Elbow Method')\n",
    "plt.xlabel('Number of Clusters')\n",
    "plt.ylabel('WCSS')\n",
    "plt.show()\n"
   ]
  },
  {
   "cell_type": "code",
   "execution_count": 29,
   "id": "e564aa6b-38de-4d5f-94b6-fcfbe9af1370",
   "metadata": {},
   "outputs": [
    {
     "name": "stdout",
     "output_type": "stream",
     "text": [
      "For n_clusters = 2, silhouette score is 0.6202534187233522)\n",
      "For n_clusters = 3, silhouette score is 0.5942060567713843)\n",
      "For n_clusters = 4, silhouette score is 0.5809595386671894)\n",
      "For n_clusters = 5, silhouette score is 0.5618585761206923)\n",
      "For n_clusters = 6, silhouette score is 0.564060316943909)\n",
      "For n_clusters = 7, silhouette score is 0.5578801096281261)\n",
      "For n_clusters = 8, silhouette score is 0.5597415411917839)\n",
      "For n_clusters = 9, silhouette score is 0.5557123876543416)\n",
      "For n_clusters = 10, silhouette score is 0.5533637456527033)\n",
      "For n_clusters = 11, silhouette score is 0.5507736697930534)\n",
      "For n_clusters = 12, silhouette score is 0.554019100620447)\n",
      "For n_clusters = 13, silhouette score is 0.5526246182534362)\n",
      "For n_clusters = 14, silhouette score is 0.5526089390943185)\n",
      "For n_clusters = 15, silhouette score is 0.5522516521256953)\n",
      "For n_clusters = 16, silhouette score is 0.553478690056719)\n",
      "For n_clusters = 17, silhouette score is 0.549198411262689)\n",
      "For n_clusters = 18, silhouette score is 0.5497025616828776)\n",
      "For n_clusters = 19, silhouette score is 0.5465088953452568)\n",
      "For n_clusters = 20, silhouette score is 0.5640313894204715)\n",
      "For n_clusters = 21, silhouette score is 0.5506079773764504)\n",
      "For n_clusters = 22, silhouette score is 0.5539453677495035)\n",
      "For n_clusters = 23, silhouette score is 0.5591825707325766)\n",
      "For n_clusters = 24, silhouette score is 0.5701215822423542)\n",
      "For n_clusters = 25, silhouette score is 0.5629162323805247)\n",
      "For n_clusters = 26, silhouette score is 0.562843683807134)\n",
      "For n_clusters = 27, silhouette score is 0.5567919718141543)\n",
      "For n_clusters = 28, silhouette score is 0.5632372704776076)\n",
      "For n_clusters = 29, silhouette score is 0.5624326257624189)\n",
      "For n_clusters = 30, silhouette score is 0.5581608829739401)\n",
      "For n_clusters = 31, silhouette score is 0.5595156800202787)\n",
      "For n_clusters = 32, silhouette score is 0.5573419632398456)\n",
      "For n_clusters = 33, silhouette score is 0.5561073507882136)\n",
      "For n_clusters = 34, silhouette score is 0.5651324231410061)\n",
      "For n_clusters = 35, silhouette score is 0.5542819362972249)\n",
      "For n_clusters = 36, silhouette score is 0.544443760897778)\n",
      "For n_clusters = 37, silhouette score is 0.5625440112957169)\n",
      "For n_clusters = 38, silhouette score is 0.5629526466369283)\n",
      "For n_clusters = 39, silhouette score is 0.5609086688979897)\n",
      "For n_clusters = 40, silhouette score is 0.5632358119517348)\n",
      "For n_clusters = 41, silhouette score is 0.5531911046746937)\n",
      "For n_clusters = 42, silhouette score is 0.5513117168703493)\n",
      "For n_clusters = 43, silhouette score is 0.5630374549769108)\n",
      "For n_clusters = 44, silhouette score is 0.5668499234767884)\n",
      "For n_clusters = 45, silhouette score is 0.5477340023567001)\n",
      "For n_clusters = 46, silhouette score is 0.5545309722777688)\n",
      "For n_clusters = 47, silhouette score is 0.5547049745974653)\n",
      "For n_clusters = 48, silhouette score is 0.5643877618925441)\n",
      "For n_clusters = 49, silhouette score is 0.5588116107541421)\n"
     ]
    }
   ],
   "source": [
    "# Using the Silhouette Score method for futher validation\n",
    "from sklearn.metrics import silhouette_score\n",
    "\n",
    "silhouette_scores = []\n",
    "for n_clusters in range(2, 50):  \n",
    "    clusterer = KMeans(n_clusters=n_clusters, init='k-means++', n_init=10)\n",
    "    preds = clusterer.fit_predict(X)\n",
    "    centers = clusterer.cluster_centers_\n",
    "    score = silhouette_score(X, preds)\n",
    "    print(\"For n_clusters = {}, silhouette score is {})\".format(n_clusters, score))"
   ]
  },
  {
   "cell_type": "markdown",
   "id": "e84780cc-e90c-4310-acec-64bdb8eb1c79",
   "metadata": {},
   "source": [
    "After testing both methods I have decided to use the Elbow Method, as in this case it could be more intuitive and computationally efficient."
   ]
  },
  {
   "cell_type": "markdown",
   "id": "530c8a56-8cff-4f8c-99ce-2434c322573e",
   "metadata": {},
   "source": [
    "Based on the elbow method, it appears that X clusters would be optimal."
   ]
  },
  {
   "cell_type": "markdown",
   "id": "62871671-83d4-4f47-aa1f-8d69625dd3a1",
   "metadata": {},
   "source": [
    "## Visualizing the Clusters"
   ]
  },
  {
   "cell_type": "code",
   "execution_count": 30,
   "id": "b7be1d8d-6e00-4ee2-8a91-9e8a878f684b",
   "metadata": {},
   "outputs": [
    {
     "ename": "FileNotFoundError",
     "evalue": "[Errno 2] No such file or directory: '../clustering_algorithms/kmeans_model.pkl'",
     "output_type": "error",
     "traceback": [
      "\u001b[0;31m---------------------------------------------------------------------------\u001b[0m",
      "\u001b[0;31mFileNotFoundError\u001b[0m                         Traceback (most recent call last)",
      "Cell \u001b[0;32mIn[30], line 5\u001b[0m\n\u001b[1;32m      3\u001b[0m \u001b[38;5;28;01mimport\u001b[39;00m \u001b[38;5;21;01mseaborn\u001b[39;00m \u001b[38;5;28;01mas\u001b[39;00m \u001b[38;5;21;01msns\u001b[39;00m\n\u001b[1;32m      4\u001b[0m \u001b[38;5;66;03m# Load the K-means model\u001b[39;00m\n\u001b[0;32m----> 5\u001b[0m kmeans_model \u001b[38;5;241m=\u001b[39m \u001b[43mjoblib\u001b[49m\u001b[38;5;241;43m.\u001b[39;49m\u001b[43mload\u001b[49m\u001b[43m(\u001b[49m\u001b[38;5;124;43m'\u001b[39;49m\u001b[38;5;124;43m../clustering_algorithms/kmeans_model.pkl\u001b[39;49m\u001b[38;5;124;43m'\u001b[39;49m\u001b[43m)\u001b[49m\n\u001b[1;32m      6\u001b[0m \u001b[38;5;66;03m# Load the original data with cluster labels\u001b[39;00m\n\u001b[1;32m      7\u001b[0m df \u001b[38;5;241m=\u001b[39m pd\u001b[38;5;241m.\u001b[39mread_csv(\u001b[38;5;124m'\u001b[39m\u001b[38;5;124m../../data/processed_data/segmented_customers_with_clusters.csv\u001b[39m\u001b[38;5;124m'\u001b[39m)\n",
      "File \u001b[0;32m/opt/homebrew/Caskroom/miniforge/base/lib/python3.10/site-packages/joblib/numpy_pickle.py:650\u001b[0m, in \u001b[0;36mload\u001b[0;34m(filename, mmap_mode)\u001b[0m\n\u001b[1;32m    648\u001b[0m         obj \u001b[38;5;241m=\u001b[39m _unpickle(fobj)\n\u001b[1;32m    649\u001b[0m \u001b[38;5;28;01melse\u001b[39;00m:\n\u001b[0;32m--> 650\u001b[0m     \u001b[38;5;28;01mwith\u001b[39;00m \u001b[38;5;28;43mopen\u001b[39;49m\u001b[43m(\u001b[49m\u001b[43mfilename\u001b[49m\u001b[43m,\u001b[49m\u001b[43m \u001b[49m\u001b[38;5;124;43m'\u001b[39;49m\u001b[38;5;124;43mrb\u001b[39;49m\u001b[38;5;124;43m'\u001b[39;49m\u001b[43m)\u001b[49m \u001b[38;5;28;01mas\u001b[39;00m f:\n\u001b[1;32m    651\u001b[0m         \u001b[38;5;28;01mwith\u001b[39;00m _read_fileobject(f, filename, mmap_mode) \u001b[38;5;28;01mas\u001b[39;00m fobj:\n\u001b[1;32m    652\u001b[0m             \u001b[38;5;28;01mif\u001b[39;00m \u001b[38;5;28misinstance\u001b[39m(fobj, \u001b[38;5;28mstr\u001b[39m):\n\u001b[1;32m    653\u001b[0m                 \u001b[38;5;66;03m# if the returned file object is a string, this means we\u001b[39;00m\n\u001b[1;32m    654\u001b[0m                 \u001b[38;5;66;03m# try to load a pickle file generated with an version of\u001b[39;00m\n\u001b[1;32m    655\u001b[0m                 \u001b[38;5;66;03m# Joblib so we load it with joblib compatibility function.\u001b[39;00m\n",
      "\u001b[0;31mFileNotFoundError\u001b[0m: [Errno 2] No such file or directory: '../clustering_algorithms/kmeans_model.pkl'"
     ]
    }
   ],
   "source": [
    "# Using seaborn for 2D scatter plots\n",
    "import joblib\n",
    "import seaborn as sns\n",
    "# Load the K-means model\n",
    "kmeans_model = joblib.load('../clustering_algorithms/kmeans_model.pkl')\n",
    "# Load the original data with cluster labels\n",
    "df = pd.read_csv('../data/processed_data/segmented_customers_with_clusters.csv')\n",
    "\n",
    "sns.scatterplot(x='Age', y='Income', hue='Cluster', data=df, palette='viridis', alpha=0.6)\n",
    "plt.title('Age vs Income')\n",
    "plt.grid(True, linestyle='--', alpha=0.7)\n",
    "plt.legend(loc='upper right')\n",
    "\n",
    "plt.show()\n"
   ]
  },
  {
   "cell_type": "markdown",
   "id": "72e66a84-46c9-461b-806b-d38c8cf5e384",
   "metadata": {},
   "source": [
    "## Explanation and Interpretation of the Clusters"
   ]
  },
  {
   "cell_type": "code",
   "execution_count": null,
   "id": "6837539b-c42c-45ed-913e-2439c47da2af",
   "metadata": {},
   "outputs": [],
   "source": []
  }
 ],
 "metadata": {
  "kernelspec": {
   "display_name": "Python 3 (ipykernel)",
   "language": "python",
   "name": "python3"
  },
  "language_info": {
   "codemirror_mode": {
    "name": "ipython",
    "version": 3
   },
   "file_extension": ".py",
   "mimetype": "text/x-python",
   "name": "python",
   "nbconvert_exporter": "python",
   "pygments_lexer": "ipython3",
   "version": "3.10.12"
  }
 },
 "nbformat": 4,
 "nbformat_minor": 5
}
